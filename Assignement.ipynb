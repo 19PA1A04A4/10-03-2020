{
  "nbformat": 4,
  "nbformat_minor": 0,
  "metadata": {
    "colab": {
      "name": "Assignement.ipynb",
      "provenance": [],
      "collapsed_sections": [],
      "toc_visible": true,
      "include_colab_link": true
    },
    "kernelspec": {
      "name": "python3",
      "display_name": "Python 3"
    }
  },
  "cells": [
    {
      "cell_type": "markdown",
      "metadata": {
        "id": "view-in-github",
        "colab_type": "text"
      },
      "source": [
        "<a href=\"https://colab.research.google.com/github/19PA1A04A4/10-03-2020/blob/master/Assignement.ipynb\" target=\"_parent\"><img src=\"https://colab.research.google.com/assets/colab-badge.svg\" alt=\"Open In Colab\"/></a>"
      ]
    },
    {
      "cell_type": "code",
      "metadata": {
        "id": "Qws09Ukojm16",
        "colab_type": "code",
        "colab": {}
      },
      "source": [
        "import pandas as pd\n",
        "import numpy as np\n",
        "from sklearn.model_selection import train_test_split\n",
        "from sklearn.linear_model import LinearRegression\n",
        "import matplotlib.pyplot as plt"
      ],
      "execution_count": 0,
      "outputs": []
    },
    {
      "cell_type": "code",
      "metadata": {
        "id": "SzgO6foB0NwR",
        "colab_type": "code",
        "colab": {}
      },
      "source": [
        "sp=pd.read_csv(\"students_placement_data.csv\")#reading the file"
      ],
      "execution_count": 0,
      "outputs": []
    },
    {
      "cell_type": "code",
      "metadata": {
        "id": "BYYlfV196nl9",
        "colab_type": "code",
        "outputId": "049fc730-da8c-4fa5-fdcb-ba0d3fd24a6a",
        "colab": {
          "base_uri": "https://localhost:8080/",
          "height": 297
        }
      },
      "source": [
        "sp.describe()"
      ],
      "execution_count": 0,
      "outputs": [
        {
          "output_type": "execute_result",
          "data": {
            "text/html": [
              "<div>\n",
              "<style scoped>\n",
              "    .dataframe tbody tr th:only-of-type {\n",
              "        vertical-align: middle;\n",
              "    }\n",
              "\n",
              "    .dataframe tbody tr th {\n",
              "        vertical-align: top;\n",
              "    }\n",
              "\n",
              "    .dataframe thead th {\n",
              "        text-align: right;\n",
              "    }\n",
              "</style>\n",
              "<table border=\"1\" class=\"dataframe\">\n",
              "  <thead>\n",
              "    <tr style=\"text-align: right;\">\n",
              "      <th></th>\n",
              "      <th>Roll No</th>\n",
              "      <th>SSC Percentage</th>\n",
              "      <th>inter_Diploma_percentage</th>\n",
              "      <th>B.Tech_percentage</th>\n",
              "      <th>Backlogs</th>\n",
              "    </tr>\n",
              "  </thead>\n",
              "  <tbody>\n",
              "    <tr>\n",
              "      <th>count</th>\n",
              "      <td>117.000000</td>\n",
              "      <td>117.000000</td>\n",
              "      <td>117.000000</td>\n",
              "      <td>117.000000</td>\n",
              "      <td>117.000000</td>\n",
              "    </tr>\n",
              "    <tr>\n",
              "      <th>mean</th>\n",
              "      <td>59.000000</td>\n",
              "      <td>80.324359</td>\n",
              "      <td>80.772906</td>\n",
              "      <td>62.943419</td>\n",
              "      <td>4.111111</td>\n",
              "    </tr>\n",
              "    <tr>\n",
              "      <th>std</th>\n",
              "      <td>33.919021</td>\n",
              "      <td>8.879266</td>\n",
              "      <td>11.267248</td>\n",
              "      <td>12.064306</td>\n",
              "      <td>6.335148</td>\n",
              "    </tr>\n",
              "    <tr>\n",
              "      <th>min</th>\n",
              "      <td>1.000000</td>\n",
              "      <td>47.800000</td>\n",
              "      <td>52.200000</td>\n",
              "      <td>31.200000</td>\n",
              "      <td>0.000000</td>\n",
              "    </tr>\n",
              "    <tr>\n",
              "      <th>25%</th>\n",
              "      <td>30.000000</td>\n",
              "      <td>76.000000</td>\n",
              "      <td>73.400000</td>\n",
              "      <td>54.180000</td>\n",
              "      <td>0.000000</td>\n",
              "    </tr>\n",
              "    <tr>\n",
              "      <th>50%</th>\n",
              "      <td>59.000000</td>\n",
              "      <td>82.330000</td>\n",
              "      <td>83.600000</td>\n",
              "      <td>64.360000</td>\n",
              "      <td>0.000000</td>\n",
              "    </tr>\n",
              "    <tr>\n",
              "      <th>75%</th>\n",
              "      <td>88.000000</td>\n",
              "      <td>87.000000</td>\n",
              "      <td>90.000000</td>\n",
              "      <td>72.570000</td>\n",
              "      <td>7.000000</td>\n",
              "    </tr>\n",
              "    <tr>\n",
              "      <th>max</th>\n",
              "      <td>117.000000</td>\n",
              "      <td>93.660000</td>\n",
              "      <td>96.900000</td>\n",
              "      <td>88.100000</td>\n",
              "      <td>25.000000</td>\n",
              "    </tr>\n",
              "  </tbody>\n",
              "</table>\n",
              "</div>"
            ],
            "text/plain": [
              "          Roll No  SSC Percentage  ...  B.Tech_percentage    Backlogs\n",
              "count  117.000000      117.000000  ...         117.000000  117.000000\n",
              "mean    59.000000       80.324359  ...          62.943419    4.111111\n",
              "std     33.919021        8.879266  ...          12.064306    6.335148\n",
              "min      1.000000       47.800000  ...          31.200000    0.000000\n",
              "25%     30.000000       76.000000  ...          54.180000    0.000000\n",
              "50%     59.000000       82.330000  ...          64.360000    0.000000\n",
              "75%     88.000000       87.000000  ...          72.570000    7.000000\n",
              "max    117.000000       93.660000  ...          88.100000   25.000000\n",
              "\n",
              "[8 rows x 5 columns]"
            ]
          },
          "metadata": {
            "tags": []
          },
          "execution_count": 37
        }
      ]
    },
    {
      "cell_type": "code",
      "metadata": {
        "id": "IlIRwuKH6qbg",
        "colab_type": "code",
        "outputId": "e988690b-63c1-4b3c-8369-1d0b51710490",
        "colab": {
          "base_uri": "https://localhost:8080/",
          "height": 187
        }
      },
      "source": [
        "sp.isna().any()#finding na values"
      ],
      "execution_count": 0,
      "outputs": [
        {
          "output_type": "execute_result",
          "data": {
            "text/plain": [
              "Roll No                               False\n",
              "Gender                                False\n",
              "Section                               False\n",
              "SSC Percentage                        False\n",
              "inter_Diploma_percentage              False\n",
              "B.Tech_percentage                     False\n",
              "Backlogs                              False\n",
              "registered_for_ Placement_Training    False\n",
              "placement status                      False\n",
              "dtype: bool"
            ]
          },
          "metadata": {
            "tags": []
          },
          "execution_count": 38
        }
      ]
    },
    {
      "cell_type": "code",
      "metadata": {
        "id": "nt5VKVjG6wvR",
        "colab_type": "code",
        "colab": {}
      },
      "source": [
        "x=sp[['SSC Percentage','inter_Diploma_percentage']]\n",
        "y=sp['B.Tech_percentage']"
      ],
      "execution_count": 0,
      "outputs": []
    },
    {
      "cell_type": "code",
      "metadata": {
        "id": "VV1LZqeU6_pc",
        "colab_type": "code",
        "outputId": "44c4c1ff-429f-4982-f334-f2c9844f7ca3",
        "colab": {
          "base_uri": "https://localhost:8080/",
          "height": 34
        }
      },
      "source": [
        "x.shape"
      ],
      "execution_count": 0,
      "outputs": [
        {
          "output_type": "execute_result",
          "data": {
            "text/plain": [
              "(117, 2)"
            ]
          },
          "metadata": {
            "tags": []
          },
          "execution_count": 40
        }
      ]
    },
    {
      "cell_type": "code",
      "metadata": {
        "id": "2YLtDW417Dfh",
        "colab_type": "code",
        "outputId": "5cdf74ae-34b0-4c27-cc74-d7579d377092",
        "colab": {
          "base_uri": "https://localhost:8080/",
          "height": 34
        }
      },
      "source": [
        "y.shape"
      ],
      "execution_count": 0,
      "outputs": [
        {
          "output_type": "execute_result",
          "data": {
            "text/plain": [
              "(117,)"
            ]
          },
          "metadata": {
            "tags": []
          },
          "execution_count": 41
        }
      ]
    },
    {
      "cell_type": "code",
      "metadata": {
        "id": "eHNI9BZK7H6P",
        "colab_type": "code",
        "colab": {}
      },
      "source": [
        "X_train,X_test,y_train,y_test=train_test_split(x,y,test_size=0.2,random_state=12) #splitting the data into two parts"
      ],
      "execution_count": 0,
      "outputs": []
    },
    {
      "cell_type": "code",
      "metadata": {
        "id": "8e9f10pK7Lmy",
        "colab_type": "code",
        "outputId": "7eb3bff9-fa48-4e56-be50-262fa1778384",
        "colab": {
          "base_uri": "https://localhost:8080/",
          "height": 34
        }
      },
      "source": [
        "model=LinearRegression()\n",
        "model.fit(X_train,y_train)#fitiing linear regression"
      ],
      "execution_count": 0,
      "outputs": [
        {
          "output_type": "execute_result",
          "data": {
            "text/plain": [
              "LinearRegression(copy_X=True, fit_intercept=True, n_jobs=None, normalize=False)"
            ]
          },
          "metadata": {
            "tags": []
          },
          "execution_count": 44
        }
      ]
    },
    {
      "cell_type": "code",
      "metadata": {
        "id": "NMfx8He_7Oys",
        "colab_type": "code",
        "outputId": "510aaf54-da47-42fb-8b63-9b9afbbf769a",
        "colab": {
          "base_uri": "https://localhost:8080/",
          "height": 34
        }
      },
      "source": [
        "model.intercept_"
      ],
      "execution_count": 0,
      "outputs": [
        {
          "output_type": "execute_result",
          "data": {
            "text/plain": [
              "-7.12367136639908"
            ]
          },
          "metadata": {
            "tags": []
          },
          "execution_count": 46
        }
      ]
    },
    {
      "cell_type": "code",
      "metadata": {
        "id": "AjdVOkF07QdK",
        "colab_type": "code",
        "outputId": "c37dee9f-f5fc-4071-ce94-db3352dee087",
        "colab": {
          "base_uri": "https://localhost:8080/",
          "height": 34
        }
      },
      "source": [
        "model.coef_"
      ],
      "execution_count": 0,
      "outputs": [
        {
          "output_type": "execute_result",
          "data": {
            "text/plain": [
              "array([0.1354934, 0.7301277])"
            ]
          },
          "metadata": {
            "tags": []
          },
          "execution_count": 47
        }
      ]
    },
    {
      "cell_type": "code",
      "metadata": {
        "id": "5WP8IsAC7Qyw",
        "colab_type": "code",
        "colab": {}
      },
      "source": [
        "sp1=sp.loc[sp['Gender']=='M'] #seperating male students"
      ],
      "execution_count": 0,
      "outputs": []
    },
    {
      "cell_type": "code",
      "metadata": {
        "id": "q8VBk62X7RDj",
        "colab_type": "code",
        "colab": {}
      },
      "source": [
        "x=sp1['inter_Diploma_percentage'].values.reshape(-1,1)\n",
        "y=sp1['B.Tech_percentage'].values.reshape(-1,1)"
      ],
      "execution_count": 0,
      "outputs": []
    },
    {
      "cell_type": "code",
      "metadata": {
        "id": "rIY4zaSp78sM",
        "colab_type": "code",
        "outputId": "1030a4bb-339b-43ca-cff4-e66c88f7137e",
        "colab": {
          "base_uri": "https://localhost:8080/",
          "height": 34
        }
      },
      "source": [
        "x.shape"
      ],
      "execution_count": 0,
      "outputs": [
        {
          "output_type": "execute_result",
          "data": {
            "text/plain": [
              "(68, 1)"
            ]
          },
          "metadata": {
            "tags": []
          },
          "execution_count": 51
        }
      ]
    },
    {
      "cell_type": "code",
      "metadata": {
        "id": "TL7HdKwd8GMN",
        "colab_type": "code",
        "outputId": "0d70e3c8-ec36-4070-a7d4-04883ad08967",
        "colab": {
          "base_uri": "https://localhost:8080/",
          "height": 34
        }
      },
      "source": [
        "y.shape"
      ],
      "execution_count": 0,
      "outputs": [
        {
          "output_type": "execute_result",
          "data": {
            "text/plain": [
              "(68, 1)"
            ]
          },
          "metadata": {
            "tags": []
          },
          "execution_count": 52
        }
      ]
    },
    {
      "cell_type": "code",
      "metadata": {
        "id": "a5iMk6HN8PPt",
        "colab_type": "code",
        "colab": {}
      },
      "source": [
        "X_train,X_test,y_train,y_test=train_test_split(x,y,test_size=0.2,random_state=123)"
      ],
      "execution_count": 0,
      "outputs": []
    },
    {
      "cell_type": "code",
      "metadata": {
        "id": "FKYK6Ahe8TmM",
        "colab_type": "code",
        "outputId": "e97a99a8-77e3-42a2-8d74-95b7e1cf890a",
        "colab": {
          "base_uri": "https://localhost:8080/",
          "height": 34
        }
      },
      "source": [
        "model=LinearRegression()\n",
        "model.fit(X_train,y_train)"
      ],
      "execution_count": 0,
      "outputs": [
        {
          "output_type": "execute_result",
          "data": {
            "text/plain": [
              "LinearRegression(copy_X=True, fit_intercept=True, n_jobs=None, normalize=False)"
            ]
          },
          "metadata": {
            "tags": []
          },
          "execution_count": 54
        }
      ]
    },
    {
      "cell_type": "code",
      "metadata": {
        "id": "n68WEMvh8ZKg",
        "colab_type": "code",
        "outputId": "16e21abb-61bc-4631-9916-2d2a300e9f35",
        "colab": {
          "base_uri": "https://localhost:8080/",
          "height": 34
        }
      },
      "source": [
        "model.intercept_"
      ],
      "execution_count": 0,
      "outputs": [
        {
          "output_type": "execute_result",
          "data": {
            "text/plain": [
              "array([-1.61277228])"
            ]
          },
          "metadata": {
            "tags": []
          },
          "execution_count": 55
        }
      ]
    },
    {
      "cell_type": "code",
      "metadata": {
        "id": "fplvFY_78elS",
        "colab_type": "code",
        "outputId": "6f195437-a9c1-4e64-d270-e19a58957e39",
        "colab": {
          "base_uri": "https://localhost:8080/",
          "height": 34
        }
      },
      "source": [
        "model.coef_"
      ],
      "execution_count": 0,
      "outputs": [
        {
          "output_type": "execute_result",
          "data": {
            "text/plain": [
              "array([[0.75849346]])"
            ]
          },
          "metadata": {
            "tags": []
          },
          "execution_count": 56
        }
      ]
    },
    {
      "cell_type": "code",
      "metadata": {
        "id": "jPklJfbN8f1a",
        "colab_type": "code",
        "outputId": "c225a6f7-5c25-4290-8d2b-4cf6d8a3f4da",
        "colab": {
          "base_uri": "https://localhost:8080/",
          "height": 34
        }
      },
      "source": [
        "pred=model.predict([[72]])#predicting b.tech percentage from inter percentage of 72% for male students \n",
        "pred"
      ],
      "execution_count": 0,
      "outputs": [
        {
          "output_type": "execute_result",
          "data": {
            "text/plain": [
              "array([[52.99875697]])"
            ]
          },
          "metadata": {
            "tags": []
          },
          "execution_count": 57
        }
      ]
    },
    {
      "cell_type": "code",
      "metadata": {
        "id": "FVSf2qsr94bM",
        "colab_type": "code",
        "colab": {}
      },
      "source": [
        "sp2=sp.loc[sp['Gender']=='F']#seperating Female studests"
      ],
      "execution_count": 0,
      "outputs": []
    },
    {
      "cell_type": "code",
      "metadata": {
        "id": "DqVcLXHN8fyV",
        "colab_type": "code",
        "outputId": "6af623c9-6c67-4015-9298-273a7e6f72e3",
        "colab": {
          "base_uri": "https://localhost:8080/",
          "height": 297
        }
      },
      "source": [
        "sp2.describe()"
      ],
      "execution_count": 0,
      "outputs": [
        {
          "output_type": "execute_result",
          "data": {
            "text/html": [
              "<div>\n",
              "<style scoped>\n",
              "    .dataframe tbody tr th:only-of-type {\n",
              "        vertical-align: middle;\n",
              "    }\n",
              "\n",
              "    .dataframe tbody tr th {\n",
              "        vertical-align: top;\n",
              "    }\n",
              "\n",
              "    .dataframe thead th {\n",
              "        text-align: right;\n",
              "    }\n",
              "</style>\n",
              "<table border=\"1\" class=\"dataframe\">\n",
              "  <thead>\n",
              "    <tr style=\"text-align: right;\">\n",
              "      <th></th>\n",
              "      <th>Roll No</th>\n",
              "      <th>SSC Percentage</th>\n",
              "      <th>inter_Diploma_percentage</th>\n",
              "      <th>B.Tech_percentage</th>\n",
              "      <th>Backlogs</th>\n",
              "    </tr>\n",
              "  </thead>\n",
              "  <tbody>\n",
              "    <tr>\n",
              "      <th>count</th>\n",
              "      <td>49.000000</td>\n",
              "      <td>49.000000</td>\n",
              "      <td>49.000000</td>\n",
              "      <td>49.000000</td>\n",
              "      <td>49.000000</td>\n",
              "    </tr>\n",
              "    <tr>\n",
              "      <th>mean</th>\n",
              "      <td>58.142857</td>\n",
              "      <td>82.911633</td>\n",
              "      <td>84.632653</td>\n",
              "      <td>71.199388</td>\n",
              "      <td>0.714286</td>\n",
              "    </tr>\n",
              "    <tr>\n",
              "      <th>std</th>\n",
              "      <td>31.077189</td>\n",
              "      <td>8.040363</td>\n",
              "      <td>10.599968</td>\n",
              "      <td>7.686968</td>\n",
              "      <td>2.140872</td>\n",
              "    </tr>\n",
              "    <tr>\n",
              "      <th>min</th>\n",
              "      <td>2.000000</td>\n",
              "      <td>50.660000</td>\n",
              "      <td>54.200000</td>\n",
              "      <td>45.260000</td>\n",
              "      <td>0.000000</td>\n",
              "    </tr>\n",
              "    <tr>\n",
              "      <th>25%</th>\n",
              "      <td>33.000000</td>\n",
              "      <td>80.300000</td>\n",
              "      <td>81.700000</td>\n",
              "      <td>65.700000</td>\n",
              "      <td>0.000000</td>\n",
              "    </tr>\n",
              "    <tr>\n",
              "      <th>50%</th>\n",
              "      <td>61.000000</td>\n",
              "      <td>84.840000</td>\n",
              "      <td>86.300000</td>\n",
              "      <td>72.400000</td>\n",
              "      <td>0.000000</td>\n",
              "    </tr>\n",
              "    <tr>\n",
              "      <th>75%</th>\n",
              "      <td>85.000000</td>\n",
              "      <td>87.420000</td>\n",
              "      <td>92.200000</td>\n",
              "      <td>75.960000</td>\n",
              "      <td>0.000000</td>\n",
              "    </tr>\n",
              "    <tr>\n",
              "      <th>max</th>\n",
              "      <td>105.000000</td>\n",
              "      <td>93.660000</td>\n",
              "      <td>96.900000</td>\n",
              "      <td>88.100000</td>\n",
              "      <td>13.000000</td>\n",
              "    </tr>\n",
              "  </tbody>\n",
              "</table>\n",
              "</div>"
            ],
            "text/plain": [
              "          Roll No  SSC Percentage  ...  B.Tech_percentage   Backlogs\n",
              "count   49.000000       49.000000  ...          49.000000  49.000000\n",
              "mean    58.142857       82.911633  ...          71.199388   0.714286\n",
              "std     31.077189        8.040363  ...           7.686968   2.140872\n",
              "min      2.000000       50.660000  ...          45.260000   0.000000\n",
              "25%     33.000000       80.300000  ...          65.700000   0.000000\n",
              "50%     61.000000       84.840000  ...          72.400000   0.000000\n",
              "75%     85.000000       87.420000  ...          75.960000   0.000000\n",
              "max    105.000000       93.660000  ...          88.100000  13.000000\n",
              "\n",
              "[8 rows x 5 columns]"
            ]
          },
          "metadata": {
            "tags": []
          },
          "execution_count": 66
        }
      ]
    },
    {
      "cell_type": "code",
      "metadata": {
        "id": "bp6rlV-M8fld",
        "colab_type": "code",
        "colab": {}
      },
      "source": [
        "x=sp2['inter_Diploma_percentage'].values.reshape(-1,1)\n",
        "y=sp2['B.Tech_percentage'].values.reshape(-1,1)"
      ],
      "execution_count": 0,
      "outputs": []
    },
    {
      "cell_type": "code",
      "metadata": {
        "id": "eyBoW6sw8fg2",
        "colab_type": "code",
        "outputId": "26375334-c9b2-4d6c-8764-dee5875967da",
        "colab": {
          "base_uri": "https://localhost:8080/",
          "height": 34
        }
      },
      "source": [
        "x.shape"
      ],
      "execution_count": 0,
      "outputs": [
        {
          "output_type": "execute_result",
          "data": {
            "text/plain": [
              "(49, 1)"
            ]
          },
          "metadata": {
            "tags": []
          },
          "execution_count": 68
        }
      ]
    },
    {
      "cell_type": "code",
      "metadata": {
        "id": "ykRI17wL8fa6",
        "colab_type": "code",
        "outputId": "f3e88701-1353-457d-cb53-80112fe6aef7",
        "colab": {
          "base_uri": "https://localhost:8080/",
          "height": 34
        }
      },
      "source": [
        "y.shape"
      ],
      "execution_count": 0,
      "outputs": [
        {
          "output_type": "execute_result",
          "data": {
            "text/plain": [
              "(49, 1)"
            ]
          },
          "metadata": {
            "tags": []
          },
          "execution_count": 69
        }
      ]
    },
    {
      "cell_type": "code",
      "metadata": {
        "id": "U24CUsC18fHS",
        "colab_type": "code",
        "colab": {}
      },
      "source": [
        "X_train,X_test,y_train,y_test=train_test_split(x,y,test_size=0.2,random_state=213)"
      ],
      "execution_count": 0,
      "outputs": []
    },
    {
      "cell_type": "code",
      "metadata": {
        "id": "QtJhL9YT_vbs",
        "colab_type": "code",
        "outputId": "5ec4c2e3-528c-40fc-da42-a4eeeb574e99",
        "colab": {
          "base_uri": "https://localhost:8080/",
          "height": 34
        }
      },
      "source": [
        "model.intercept_"
      ],
      "execution_count": 0,
      "outputs": [
        {
          "output_type": "execute_result",
          "data": {
            "text/plain": [
              "array([-1.61277228])"
            ]
          },
          "metadata": {
            "tags": []
          },
          "execution_count": 71
        }
      ]
    },
    {
      "cell_type": "code",
      "metadata": {
        "id": "kNg_F5Y-ABwA",
        "colab_type": "code",
        "outputId": "9f227821-d9bb-4c8b-8199-64c466620aeb",
        "colab": {
          "base_uri": "https://localhost:8080/",
          "height": 34
        }
      },
      "source": [
        "model.coef_             "
      ],
      "execution_count": 0,
      "outputs": [
        {
          "output_type": "execute_result",
          "data": {
            "text/plain": [
              "array([[0.75849346]])"
            ]
          },
          "metadata": {
            "tags": []
          },
          "execution_count": 72
        }
      ]
    },
    {
      "cell_type": "code",
      "metadata": {
        "id": "CO7UqLyfAD7i",
        "colab_type": "code",
        "outputId": "e6cb6c69-801d-42f9-a58a-5f12cf8f4c8b",
        "colab": {
          "base_uri": "https://localhost:8080/",
          "height": 34
        }
      },
      "source": [
        "model.predict([[72]])#predicting b.tech percentage for inter percentage of 72% of female students"
      ],
      "execution_count": 0,
      "outputs": [
        {
          "output_type": "execute_result",
          "data": {
            "text/plain": [
              "array([[52.99875697]])"
            ]
          },
          "metadata": {
            "tags": []
          },
          "execution_count": 73
        }
      ]
    },
    {
      "cell_type": "markdown",
      "metadata": {
        "id": "pw1tNvEcARtb",
        "colab_type": "text"
      },
      "source": [
        "Therefore female students are performing better in b.tech than male students with inter percentage of 72%"
      ]
    }
  ]
}